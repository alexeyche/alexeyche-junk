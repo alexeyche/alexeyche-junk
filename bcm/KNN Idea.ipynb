{
 "cells": [
  {
   "cell_type": "markdown",
   "metadata": {},
   "source": [
    "## Idea\n",
    "\n",
    "Use the paper about BCM as core to the idea. Approach consists of unsupervised learning of filters through BCM that uses activation function to map into space sparse of numbers 0-255 (0-127). Such approach will help to map the problem of querying the dataset to the problem of FST search. It seems possible to traverse tree with some guarantees on querying nearest neighbor, as you have FST search with guarantees of edit distance"
   ]
  }
 ],
 "metadata": {
  "kernelspec": {
   "display_name": "Python 3",
   "language": "python",
   "name": "python3"
  },
  "language_info": {
   "codemirror_mode": {
    "name": "ipython",
    "version": 3
   },
   "file_extension": ".py",
   "mimetype": "text/x-python",
   "name": "python",
   "nbconvert_exporter": "python",
   "pygments_lexer": "ipython3",
   "version": "3.7.5"
  }
 },
 "nbformat": 4,
 "nbformat_minor": 2
}
